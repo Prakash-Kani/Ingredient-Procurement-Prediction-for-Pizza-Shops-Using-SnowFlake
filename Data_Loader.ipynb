{
 "cells": [
  {
   "cell_type": "code",
   "execution_count": 1,
   "metadata": {},
   "outputs": [],
   "source": [
    "import snowflake\n",
    "from snowflake.snowpark import Session\n",
    "import os\n",
    "from dotenv import load_dotenv"
   ]
  },
  {
   "cell_type": "code",
   "execution_count": 2,
   "metadata": {},
   "outputs": [],
   "source": [
    "\n",
    "# Load environment variables from .env file\n",
    "load_dotenv()\n",
    "account = os.getenv('ACCOUNT')\n",
    "password =os.getenv('PASSWORD')\n",
    "user = os.getenv('USER')\n",
    "warehouse = os.getenv('WAREHOUSE')\n",
    "database = os.getenv('DATABASE')\n",
    "schema = os.getenv('SCHEMA')"
   ]
  },
  {
   "cell_type": "code",
   "execution_count": 4,
   "metadata": {},
   "outputs": [],
   "source": [
    "connections = snowflake.connector.connect(user = user,\n",
    "                                  password = password,\n",
    "                                  account = account,\n",
    "                                  database = database,\n",
    "                                  schema = schema)"
   ]
  },
  {
   "cell_type": "code",
   "execution_count": 5,
   "metadata": {},
   "outputs": [],
   "source": [
    "\n",
    "cursor = connections.cursor()"
   ]
  },
  {
   "cell_type": "code",
   "execution_count": 8,
   "metadata": {},
   "outputs": [
    {
     "data": {
      "text/plain": [
       "<snowflake.connector.cursor.SnowflakeCursor at 0x169f0946650>"
      ]
     },
     "execution_count": 8,
     "metadata": {},
     "output_type": "execute_result"
    }
   ],
   "source": [
    "# https://quickstarts.snowflake.com/guide/intro_to_machine_learning_with_snowpark_ml_for_python/#1\n",
    "cursor.execute(\"\"\"-- create csv format\n",
    "                    CREATE FILE FORMAT IF NOT EXISTS ML_PIZZA_DB.ANALYSIS.CSVFORMAT \n",
    "                        SKIP_HEADER = 1 \n",
    "                        TYPE = 'CSV';\"\"\")"
   ]
  },
  {
   "cell_type": "code",
   "execution_count": 17,
   "metadata": {},
   "outputs": [
    {
     "data": {
      "text/plain": [
       "<snowflake.connector.cursor.SnowflakeCursor at 0x169f0946650>"
      ]
     },
     "execution_count": 17,
     "metadata": {},
     "output_type": "execute_result"
    }
   ],
   "source": [
    "cursor.execute(\"\"\"\n",
    "    -- Create an internal stage to hold the CSV file\n",
    "    CREATE STAGE IF NOT EXISTS ML_PIZZA_DB.ANALYSIS.PIZZA_SALES_ASSETS \n",
    "    FILE_FORMAT = ML_PIZZA_DB.ANALYSIS.CSVFORMAT;\n",
    "\"\"\")"
   ]
  },
  {
   "cell_type": "code",
   "execution_count": 18,
   "metadata": {},
   "outputs": [
    {
     "data": {
      "text/plain": [
       "<snowflake.connector.cursor.SnowflakeCursor at 0x169f0946650>"
      ]
     },
     "execution_count": 18,
     "metadata": {},
     "output_type": "execute_result"
    }
   ],
   "source": [
    "cursor.execute(\"\"\"\n",
    "    PUT 'file:///D:/Prakash/Github/Ingredient-Procurement-Prediction-for-Pizza-Shops-Using-SnowFlake/src/Pizza_sales.csv' \n",
    "    @ML_PIZZA_DB.ANALYSIS.PIZZA_SALES_ASSETS AUTO_COMPRESS=TRUE;\n",
    "\"\"\")"
   ]
  },
  {
   "cell_type": "code",
   "execution_count": 6,
   "metadata": {},
   "outputs": [
    {
     "data": {
      "text/plain": [
       "[('pizza_sales_assets/Pizza_sales.csv.gz',\n",
       "  652816,\n",
       "  '590880e388379c0cb36a53a9452c4529',\n",
       "  'Mon, 16 Sep 2024 06:25:26 GMT')]"
      ]
     },
     "execution_count": 6,
     "metadata": {},
     "output_type": "execute_result"
    }
   ],
   "source": [
    "cursor.execute(\"LS @PIZZA_SALES_ASSETS;\")\n",
    "cursor.fetchall()"
   ]
  },
  {
   "cell_type": "code",
   "execution_count": 11,
   "metadata": {},
   "outputs": [
    {
     "data": {
      "text/plain": [
       "<snowflake.connector.cursor.SnowflakeCursor at 0x14c0a23da10>"
      ]
     },
     "execution_count": 11,
     "metadata": {},
     "output_type": "execute_result"
    }
   ],
   "source": [
    "cursor.execute(\"\"\"\n",
    "    -- Create an internal stage to hold the CSV file\n",
    "    CREATE STAGE IF NOT EXISTS ML_PIZZA_DB.ANALYSIS.PIZZA_INGREDIENTS_ASSETS \n",
    "    FILE_FORMAT = ML_PIZZA_DB.ANALYSIS.CSVFORMAT;\n",
    "\"\"\")"
   ]
  },
  {
   "cell_type": "code",
   "execution_count": 12,
   "metadata": {},
   "outputs": [
    {
     "data": {
      "text/plain": [
       "<snowflake.connector.cursor.SnowflakeCursor at 0x14c0a23da10>"
      ]
     },
     "execution_count": 12,
     "metadata": {},
     "output_type": "execute_result"
    }
   ],
   "source": [
    "cursor.execute(\"\"\"\n",
    "    PUT 'file:///D:/Prakash/Github/Ingredient-Procurement-Prediction-for-Pizza-Shops-Using-SnowFlake/src/Pizza_ingredients.csv' \n",
    "    @ML_PIZZA_DB.ANALYSIS.PIZZA_INGREDIENTS_ASSETS AUTO_COMPRESS=TRUE;\n",
    "\"\"\")"
   ]
  },
  {
   "cell_type": "code",
   "execution_count": 13,
   "metadata": {},
   "outputs": [
    {
     "data": {
      "text/plain": [
       "[('pizza_ingredients_assets/Pizza_ingredients.csv.gz',\n",
       "  3184,\n",
       "  'd2cd13369aa2e11a39359117d315f864',\n",
       "  'Mon, 16 Sep 2024 06:35:34 GMT')]"
      ]
     },
     "execution_count": 13,
     "metadata": {},
     "output_type": "execute_result"
    }
   ],
   "source": [
    "cursor.execute(\"LS @PIZZA_INGREDIENTS_ASSETS;\")\n",
    "cursor.fetchall()"
   ]
  },
  {
   "cell_type": "code",
   "execution_count": 14,
   "metadata": {},
   "outputs": [
    {
     "data": {
      "text/plain": [
       "(True, True)"
      ]
     },
     "execution_count": 14,
     "metadata": {},
     "output_type": "execute_result"
    }
   ],
   "source": [
    "cursor.close()\n",
    "connections.close()\n",
    "\n",
    "cursor.is_closed(), connections.is_closed()"
   ]
  }
 ],
 "metadata": {
  "kernelspec": {
   "display_name": ".venv",
   "language": "python",
   "name": "python3"
  },
  "language_info": {
   "codemirror_mode": {
    "name": "ipython",
    "version": 3
   },
   "file_extension": ".py",
   "mimetype": "text/x-python",
   "name": "python",
   "nbconvert_exporter": "python",
   "pygments_lexer": "ipython3",
   "version": "3.11.5"
  }
 },
 "nbformat": 4,
 "nbformat_minor": 2
}
